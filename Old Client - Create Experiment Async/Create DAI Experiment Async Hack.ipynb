{
 "cells": [
  {
   "cell_type": "code",
   "execution_count": 3,
   "metadata": {},
   "outputs": [],
   "source": [
    "from h2oai_client import Client\n",
    "import getpass"
   ]
  },
  {
   "cell_type": "code",
   "execution_count": 4,
   "metadata": {},
   "outputs": [
    {
     "data": {
      "text/plain": [
       "'1.8.2'"
      ]
     },
     "execution_count": 4,
     "metadata": {},
     "output_type": "execute_result"
    }
   ],
   "source": [
    "import h2oai_client\n",
    "h2oai_client.__version__"
   ]
  },
  {
   "cell_type": "code",
   "execution_count": 12,
   "metadata": {},
   "outputs": [
    {
     "name": "stdout",
     "output_type": "stream",
     "text": [
      "········\n"
     ]
    }
   ],
   "source": [
    "address = 'http://ip_where_driverless_is_running:12345'\n",
    "username = 'username'\n",
    "password = getpass.getpass()\n",
    "h2oai = Client(address = address, username = username, password = password)"
   ]
  },
  {
   "cell_type": "markdown",
   "metadata": {},
   "source": [
    "### Custom function to start experiment asynchronously"
   ]
  },
  {
   "cell_type": "code",
   "execution_count": 13,
   "metadata": {},
   "outputs": [],
   "source": [
    "from h2oai_client import Model, ModelParameters, DatasetReference, ModelReference\n",
    "\n",
    "def my_start_experiment(self, dataset_key: str, target_col: str, is_classification: bool,\n",
    "                          accuracy: int, time: int, interpretability: int,\n",
    "                          scorer=None,\n",
    "                          score_f_name: str = None, **kwargs) -> Model:\n",
    " \n",
    "    if scorer is not None:\n",
    "        score_f_name = scorer\n",
    "    params = ModelParameters(\n",
    "        dataset=DatasetReference(dataset_key),\n",
    "        resumed_model=ModelReference(\n",
    "            kwargs.get('resumed_model_key', '')),\n",
    "        target_col=target_col,\n",
    "        weight_col=kwargs.get('weight_col', None),\n",
    "        fold_col=kwargs.get('fold_col', None),\n",
    "        orig_time_col=kwargs.get('orig_time_col',\n",
    "            kwargs.get('time_col', None)),\n",
    "        time_col=kwargs.get('time_col', None),\n",
    "        is_classification=is_classification,\n",
    "        cols_to_drop=kwargs.get('cols_to_drop', []),\n",
    "        validset=DatasetReference(\n",
    "            kwargs.get('validset_key', '')),\n",
    "        testset=DatasetReference(\n",
    "            kwargs.get('testset_key', '')),\n",
    "        enable_gpus=kwargs.get('enable_gpus', True),\n",
    "        seed=kwargs.get('seed', False),\n",
    "        accuracy=accuracy,\n",
    "        time=time,\n",
    "        interpretability=interpretability,\n",
    "        score_f_name=score_f_name,\n",
    "        time_groups_columns=kwargs.get('time_groups_columns', None),\n",
    "        unavailable_columns_at_prediction_time=kwargs.get(\n",
    "            'unavailable_columns_at_prediction_time', []),\n",
    "        time_period_in_seconds=kwargs.get('time_period_in_seconds', None),\n",
    "        num_prediction_periods=kwargs.get('num_prediction_periods', None),\n",
    "        num_gap_periods=kwargs.get('num_gap_periods', None),\n",
    "        is_timeseries=kwargs.get('is_timeseries', False),\n",
    "        cols_imputation=kwargs.get('cols_imputation', []),\n",
    "        config_overrides=kwargs.get('config_overrides', None),\n",
    "        #custom_features=[],\n",
    "    )\n",
    "    # If custom recipes acceptance jobs are running, wait for them to finish\n",
    "    if not kwargs.get('force_skip_acceptance_tests', False):\n",
    "        self._wait_for_custom_recipes_acceptance_tests()\n",
    "    key = self.start_experiment(params, kwargs.get('experiment_name', ''))\n",
    "    #job = self._wait_for_model(key)\n",
    "    return key#job.entity"
   ]
  },
  {
   "cell_type": "markdown",
   "metadata": {},
   "source": [
    "### Create Functions that finds datasets"
   ]
  },
  {
   "cell_type": "code",
   "execution_count": 14,
   "metadata": {},
   "outputs": [],
   "source": [
    "def find_dataset_keys(dataset_dump, dataset_name):\n",
    "    keys = []\n",
    "\n",
    "    for dataset in dataset_dump['datasets']:\n",
    "        if dataset['name'] == dataset_name:\n",
    "            keys.append(dataset['key'])\n",
    "            \n",
    "    return keys"
   ]
  },
  {
   "cell_type": "markdown",
   "metadata": {},
   "source": [
    "### Get Dataset Key"
   ]
  },
  {
   "cell_type": "code",
   "execution_count": 16,
   "metadata": {},
   "outputs": [],
   "source": [
    "#Get dataset_dump\n",
    "dataset_dump = h2oai.list_datasets(offset=0, limit=10000, include_inactive=True).dump()  \n",
    "\n",
    "#Upload training data if not present\n",
    "keys = find_dataset_keys(dataset_dump, 'cc_train')\n",
    "if len(keys) > 0:\n",
    "    train_key = keys[0]     \n",
    "    print('Training data already present. Using key:', train_key)"
   ]
  },
  {
   "cell_type": "markdown",
   "metadata": {},
   "source": [
    "## Run Experiment"
   ]
  },
  {
   "cell_type": "code",
   "execution_count": 24,
   "metadata": {},
   "outputs": [
    {
     "name": "stdout",
     "output_type": "stream",
     "text": [
      "Started experiment for key: 630c31a2-d6c7-11ea-8496-ac1f6b68b7be\n"
     ]
    }
   ],
   "source": [
    "#Start experiment\n",
    "experiment_key = my_start_experiment(h2oai, \n",
    "                                         dataset_key=train_key,\n",
    "                                         target_col=\"Amount\",\n",
    "                                         is_classification=False,\n",
    "                                         accuracy=5, \n",
    "                                         time=5, \n",
    "                                         interpretability=5, \n",
    "                                         scorer=\"RMSE\")\n",
    "print('Started experiment for key:', experiment_key)    "
   ]
  }
 ],
 "metadata": {
  "kernelspec": {
   "display_name": "Python 3",
   "language": "python",
   "name": "python3"
  },
  "language_info": {
   "codemirror_mode": {
    "name": "ipython",
    "version": 3
   },
   "file_extension": ".py",
   "mimetype": "text/x-python",
   "name": "python",
   "nbconvert_exporter": "python",
   "pygments_lexer": "ipython3",
   "version": "3.6.9"
  }
 },
 "nbformat": 4,
 "nbformat_minor": 4
}
